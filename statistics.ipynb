{
 "cells": [
  {
   "cell_type": "code",
   "execution_count": 2,
   "metadata": {},
   "outputs": [
    {
     "name": "stdout",
     "output_type": "stream",
     "text": [
      "large\n"
     ]
    }
   ],
   "source": [
    "import os\n",
    "import json\n",
    "from PIL import Image\n",
    "from orient_anything import get_3angle, render_3D_axis, overlay_images_with_scaling\n",
    "from transformers import AutoImageProcessor\n",
    "from rewards.orient import OrientLoss\n",
    "from torchvision.transforms import ToTensor, ToPILImage\n",
    "import torch\n",
    "import numpy as np\n",
    "device = torch.device(\"cuda:1\")\n",
    "\n",
    "orientation = [0, 90, 90]\n",
    "reward_loss = OrientLoss(1.0, torch.float16, device, '/root/.cache/huggingface/hub', False)\n",
    "results = {}\n",
    "val_preprocess = AutoImageProcessor.from_pretrained(\"facebook/dinov2-large\", cache_dir='./')\n",
    "\n",
    "for img_path in sorted([path for path in os.listdir(\"./results/orient\") if path.startswith(\"a photo of a car_(90,90,90)\")]):\n",
    "    image = Image.open(os.path.join(\"./results/orient\", img_path, \"init.png\"))\n",
    "    angles = get_3angle(image, reward_loss.orient_estimator, val_preprocess, device)\n",
    "    key = img_path.split(\"_\")[-1].zfill(2)  # JSON의 key 값으로 사용\n",
    "    results[key] = angles[0].item()  # value 값으로 angles[0] 저장\n",
    "\n",
    "# JSON 파일 저장\n",
    "with open(\"./results/orient/azimuth_per_seed.json\", \"w\") as f:\n",
    "    json.dump(results, f, indent=4, sort_keys=True)\n"
   ]
  },
  {
   "cell_type": "code",
   "execution_count": 7,
   "metadata": {},
   "outputs": [
    {
     "name": "stdout",
     "output_type": "stream",
     "text": [
      "75\n",
      "4\n",
      "0\n",
      "21\n"
     ]
    }
   ],
   "source": [
    "azimuths = results.values()\n",
    "distribution = [[], [], [], []]\n",
    "for angle in azimuths:\n",
    "    if angle >= 0 and angle < 90:\n",
    "        distribution[0].append(angle)\n",
    "    elif angle >= 90 and angle < 180:\n",
    "        distribution[1].append(angle)\n",
    "    elif angle >= 180 and angle < 270:\n",
    "        distribution[2].append(angle)\n",
    "    elif angle >= 270 and angle < 360:\n",
    "        distribution[3].append(angle)\n",
    "\n",
    "print(len(distribution[0]))\n",
    "print(len(distribution[1]))\n",
    "print(len(distribution[2]))\n",
    "print(len(distribution[3]))"
   ]
  },
  {
   "cell_type": "code",
   "execution_count": 9,
   "metadata": {},
   "outputs": [
    {
     "name": "stdout",
     "output_type": "stream",
     "text": [
      "[93.0, 91.0, 161.0, 91.0]\n"
     ]
    }
   ],
   "source": [
    "print(distribution[1])"
   ]
  },
  {
   "cell_type": "code",
   "execution_count": null,
   "metadata": {},
   "outputs": [],
   "source": []
  }
 ],
 "metadata": {
  "kernelspec": {
   "display_name": "reno",
   "language": "python",
   "name": "python3"
  },
  "language_info": {
   "codemirror_mode": {
    "name": "ipython",
    "version": 3
   },
   "file_extension": ".py",
   "mimetype": "text/x-python",
   "name": "python",
   "nbconvert_exporter": "python",
   "pygments_lexer": "ipython3",
   "version": "3.11.0"
  }
 },
 "nbformat": 4,
 "nbformat_minor": 2
}
