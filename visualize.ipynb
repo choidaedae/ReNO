{
 "cells": [
  {
   "cell_type": "code",
   "execution_count": null,
   "metadata": {},
   "outputs": [],
   "source": [
    "import os\n",
    "import json\n",
    "from PIL import Image\n",
    "from orient_anything import get_3angle, render_3D_axis, overlay_images_with_scaling\n",
    "from transformers import AutoImageProcessor\n",
    "from rewards.orient import OrientLoss\n",
    "from torchvision.transforms import ToTensor, ToPILImage\n",
    "import torch\n",
    "import numpy as np\n",
    "device = torch.device(\"cuda:1\")\n",
    "\n",
    "orientation = [0, 90, 90]\n",
    "reward_loss = OrientLoss(1.0, torch.float16, device, '/root/.cache/huggingface/hub', False)\n",
    "results = {}\n",
    "val_preprocess = AutoImageProcessor.from_pretrained(\"facebook/dinov2-large\", cache_dir='./')\n",
    "\n",
    "for img_path in sorted([path for path in os.listdir(\"./results/orient\") if path.startswith(\"a photo of a car_(90,90,90)\")]):\n",
    "    image = Image.open(os.path.join(\"./results/orient\", img_path, \"init.png\"))\n",
    "    angles = get_3angle(image, reward_loss.orient_estimator, val_preprocess, device)\n",
    "    key = img_path.split(\"_\")[-1].zfill(2)  # JSON의 key 값으로 사용\n",
    "    results[key] = angles[0].item()  # value 값으로 angles[0] 저장\n",
    "\n",
    "# JSON 파일 저장\n",
    "with open(\"./results/orient/azimuth_per_seed.json\", \"w\") as f:\n",
    "    json.dump(results, f, indent=4, sort_keys=True)\n"
   ]
  },
  {
   "cell_type": "code",
   "execution_count": null,
   "metadata": {},
   "outputs": [],
   "source": [
    "azimuths = results.values()\n",
    "distribution = [[], [], [], []]\n",
    "for angle in azimuths:\n",
    "    if angle >= 0 and angle < 90:\n",
    "        distribution[0].append(angle)\n",
    "    elif angle >= 90 and angle < 180:\n",
    "        distribution[1].append(angle)\n",
    "    elif angle >= 180 and angle < 270:\n",
    "        distribution[2].append(angle)\n",
    "    elif angle >= 270 and angle < 360:\n",
    "        distribution[3].append(angle)\n",
    "\n",
    "print(len(distribution[0]))\n",
    "print(len(distribution[1]))\n",
    "print(len(distribution[2]))\n",
    "print(len(distribution[3]))"
   ]
  },
  {
   "cell_type": "code",
   "execution_count": null,
   "metadata": {},
   "outputs": [],
   "source": [
    "print(distribution[1])"
   ]
  },
  {
   "cell_type": "code",
   "execution_count": null,
   "metadata": {},
   "outputs": [],
   "source": [
    "import os\n",
    "import re\n",
    "import matplotlib.pyplot as plt\n",
    "from PIL import Image\n",
    "\n",
    "def sort_filenames(filenames):\n",
    "    \"\"\" 파일 리스트를 숫자 인덱스를 기준으로 정렬하는 함수 \"\"\"\n",
    "    def extract_third_number(filename):\n",
    "        match = re.search(r'prompt_\\d+_orientation_\\d+_(\\d+)', filename)\n",
    "        return int(match.group(1)) if match else float('inf')  # 정수 변환하여 정렬\n",
    "    return sorted(filenames, key=extract_third_number)\n",
    "\n",
    "def visualize_orientations(image_folder):\n",
    "    \"\"\" 주어진 폴더에서 이미지를 정렬하여 10x10 그리드로 시각화하는 함수 \"\"\"\n",
    "    # 폴더 내 파일 목록 가져오기\n",
    "    filenames = [f for f in os.listdir(image_folder) if f.endswith(\"orientation.png\")]\n",
    "    \n",
    "    # 파일 정렬\n",
    "    sorted_filenames = sort_filenames(filenames)\n",
    "    \n",
    "    # 10x10 그리드 생성\n",
    "    #fig, axes = plt.subplots(10, 10, figsize=(15, 15), dpi=100)\n",
    "    fig, axes = plt.subplots(5, 10, figsize=(15, 8), dpi=1000)\n",
    "    #fig, axes = plt.subplots(2, 10, figsize=(15, 3), dpi=1000)\n",
    "    \n",
    "    for i, ax in enumerate(axes.flat):\n",
    "        if i < len(sorted_filenames):\n",
    "            img_path = os.path.join(image_folder, sorted_filenames[i])\n",
    "            img = Image.open(img_path)  # Pillow를 사용하여 이미지 로드\n",
    "            \n",
    "            ax.imshow(img)\n",
    "            ax.set_title(f\"Iteration {i}\", fontsize=2)\n",
    "            ax.axis(\"off\")\n",
    "        else:\n",
    "            ax.axis(\"off\")  # 이미지가 부족한 경우 빈 칸 처리\n",
    "    \n",
    "    plt.tight_layout()\n",
    "    #plt.show()\n",
    "    fig.savefig(os.path.join(image_folder, \"total_distributions.png\"))\n",
    "\n",
    "image_folder = \"/root/code/ReNO/results/var1/sd-turbo/reg_True_lr_3.0_seed_0_noise_optimize_False_noises_0\"  # 이미지가 저장된 폴더 경로 지정\n",
    "visualize_orientations(image_folder)\n"
   ]
  },
  {
   "cell_type": "markdown",
   "metadata": {},
   "source": []
  },
  {
   "cell_type": "code",
   "execution_count": null,
   "metadata": {},
   "outputs": [],
   "source": [
    "def visualize_images(image_folder):\n",
    "    \"\"\" 주어진 폴더에서 이미지를 정렬하여 10x10 그리드로 시각화하는 함수 \"\"\"\n",
    "    # 폴더 내 파일 목록 가져오기\n",
    "    filenames = [f for f in os.listdir(image_folder) if f.endswith(\".png\") and not f.endswith(\"orientation.png\") and not f.endswith(\"init.png\") and not f.endswith(\"result.png\")]\n",
    "    \n",
    "    # 파일 정렬\n",
    "    sorted_filenames = sort_filenames(filenames)\n",
    "    \n",
    "    # 10x10 그리드 생성\n",
    "    #fig, axes = plt.subplots(10, 10, figsize=(15, 15))\n",
    "    fig, axes = plt.subplots(5, 10, figsize=(15, 8), dpi=1000)\n",
    "    #fig, axes = plt.subplots(2, 10, figsize=(15, 3), dpi=1000)\n",
    "    \n",
    "    for i, ax in enumerate(axes.flat):\n",
    "        if i < len(sorted_filenames):\n",
    "            img_path = os.path.join(image_folder, sorted_filenames[i])\n",
    "            img = Image.open(img_path)  # Pillow를 사용하여 이미지 로드\n",
    "            \n",
    "            ax.imshow(img)\n",
    "            ax.set_title(f\"Iteration {i}\", fontsize=8)\n",
    "            ax.axis(\"off\")\n",
    "        else:\n",
    "            ax.axis(\"off\")  # 이미지가 부족한 경우 빈 칸 처리\n",
    "    \n",
    "    plt.tight_layout()\n",
    "    #plt.show()\n",
    "    fig.savefig(os.path.join(image_folder, \"total_images.png\"))\n",
    "# 예제 사용법\n",
    "image_folder = \"/root/code/ReNO/results/var1/sd-turbo/reg_True_lr_3.0_seed_0_noise_optimize_False_noises_0\"  # 이미지가 저장된 폴더 경로 지정\n",
    "visualize_images(image_folder)"
   ]
  },
  {
   "cell_type": "markdown",
   "metadata": {},
   "source": [
    "## Inference Orient-Anything"
   ]
  },
  {
   "cell_type": "code",
   "execution_count": null,
   "metadata": {},
   "outputs": [
    {
     "name": "stderr",
     "output_type": "stream",
     "text": [
      "/opt/conda/envs/reno/lib/python3.11/site-packages/huggingface_hub/file_download.py:795: FutureWarning: `resume_download` is deprecated and will be removed in version 1.0.0. Downloads always resume when possible. If you want to force a new download, use `force_download=True`.\n",
      "  warnings.warn(\n"
     ]
    },
    {
     "name": "stdout",
     "output_type": "stream",
     "text": [
      "/root/data/model/models--Viglong--Orient-Anything/snapshots/5249ecae5cf2b8371874a88e9ab766ce81760242/croplargeEX2/dino_weight.pt\n",
      "large\n",
      "Model created\n"
     ]
    },
    {
     "name": "stderr",
     "output_type": "stream",
     "text": [
      "/tmp/ipykernel_1860218/2165541953.py:30: FutureWarning: You are using `torch.load` with `weights_only=False` (the current default value), which uses the default pickle module implicitly. It is possible to construct malicious pickle data which will execute arbitrary code during unpickling (See https://github.com/pytorch/pytorch/blob/main/SECURITY.md#untrusted-models for more details). In a future release, the default value for `weights_only` will be flipped to `True`. This limits the functions that could be executed during unpickling. Arbitrary objects will no longer be allowed to be loaded via this mode unless they are explicitly allowlisted by the user via `torch.serialization.add_safe_globals`. We recommend you start setting `weights_only=True` for any use case where you don't have full control of the loaded file. Please open an issue on GitHub for any issues related to this experimental feature.\n",
      "  dino.load_state_dict(torch.load(ckpt_path, map_location='cpu'))\n"
     ]
    },
    {
     "name": "stdout",
     "output_type": "stream",
     "text": [
      "Weights loaded\n"
     ]
    }
   ],
   "source": [
    "import argparse\n",
    "from vision_tower import DINOv2_MLP\n",
    "from transformers import AutoImageProcessor\n",
    "import torch\n",
    "from PIL import Image\n",
    "import torch.nn.functional as F\n",
    "from utils import *\n",
    "from inference import *\n",
    "import os\n",
    "from huggingface_hub import hf_hub_download\n",
    "\n",
    "# Argument parser for source and save directories\n",
    "# Download the model checkpoint\n",
    "ckpt_path = hf_hub_download(repo_id=\"Viglong/Orient-Anything\", filename=\"croplargeEX2/dino_weight.pt\", repo_type=\"model\", cache_dir='/root/data/model', resume_download=True)\n",
    "print(ckpt_path)\n",
    "\n",
    "# Setup device and model\n",
    "device = 'cuda' if torch.cuda.is_available() else 'cpu'\n",
    "dino = DINOv2_MLP(\n",
    "    dino_mode='large',\n",
    "    in_dim=1024,\n",
    "    out_dim=360+180+180+2,\n",
    "    evaluate=True,\n",
    "    mask_dino=False,\n",
    "    frozen_back=False\n",
    ")\n",
    "\n",
    "dino.eval()\n",
    "print('Model created')\n",
    "dino.load_state_dict(torch.load(ckpt_path, map_location='cpu'))\n",
    "dino = dino.to(dtype=torch.float32, device=device)\n",
    "print('Weights loaded')\n",
    "val_preprocess = AutoImageProcessor.from_pretrained(\"facebook/dinov2-large\", cache_dir='/root/data/model')"
   ]
  },
  {
   "cell_type": "code",
   "execution_count": 9,
   "metadata": {},
   "outputs": [
    {
     "name": "stderr",
     "output_type": "stream",
     "text": [
      "/tmp/ipykernel_1860218/307258548.py:21: DeprecationWarning: __array_wrap__ must accept context and return_scalar arguments (positionally) in the future. (Deprecated NumPy 2.0)\n",
      "  azimuth = float(np.radians(angles[0]))\n",
      "/tmp/ipykernel_1860218/307258548.py:22: DeprecationWarning: __array_wrap__ must accept context and return_scalar arguments (positionally) in the future. (Deprecated NumPy 2.0)\n",
      "  polar = float(np.radians(angles[1]))\n"
     ]
    },
    {
     "name": "stdout",
     "output_type": "stream",
     "text": [
      "filename: prompt_0_orientation_0_0.png, azimuth: 37.0\n",
      "filename: prompt_0_orientation_0_1.png, azimuth: 36.0\n",
      "filename: prompt_0_orientation_0_2.png, azimuth: 27.0\n",
      "filename: prompt_0_orientation_0_3.png, azimuth: 23.0\n",
      "filename: prompt_0_orientation_0_4.png, azimuth: 23.0\n",
      "filename: prompt_0_orientation_0_5.png, azimuth: 23.0\n",
      "filename: prompt_0_orientation_0_6.png, azimuth: 20.0\n",
      "filename: prompt_0_orientation_0_7.png, azimuth: 20.0\n",
      "filename: prompt_0_orientation_0_8.png, azimuth: 12.0\n",
      "filename: prompt_0_orientation_0_9.png, azimuth: 12.0\n",
      "filename: prompt_0_orientation_0_10.png, azimuth: 12.0\n",
      "filename: prompt_0_orientation_0_11.png, azimuth: 18.0\n",
      "filename: prompt_0_orientation_0_12.png, azimuth: 12.0\n",
      "filename: prompt_0_orientation_0_13.png, azimuth: 20.0\n",
      "filename: prompt_0_orientation_0_14.png, azimuth: 12.0\n",
      "filename: prompt_0_orientation_0_15.png, azimuth: 12.0\n",
      "filename: prompt_0_orientation_0_16.png, azimuth: 12.0\n",
      "filename: prompt_0_orientation_0_17.png, azimuth: 14.0\n",
      "filename: prompt_0_orientation_0_18.png, azimuth: 12.0\n",
      "filename: prompt_0_orientation_0_19.png, azimuth: 12.0\n",
      "filename: prompt_0_orientation_0_20.png, azimuth: 12.0\n",
      "filename: prompt_0_orientation_0_21.png, azimuth: 11.0\n",
      "filename: prompt_0_orientation_0_22.png, azimuth: 6.0\n",
      "filename: prompt_0_orientation_0_23.png, azimuth: 9.0\n",
      "filename: prompt_0_orientation_0_24.png, azimuth: 6.0\n",
      "filename: prompt_0_orientation_0_25.png, azimuth: 6.0\n",
      "filename: prompt_0_orientation_0_26.png, azimuth: 6.0\n",
      "filename: prompt_0_orientation_0_27.png, azimuth: 6.0\n",
      "filename: prompt_0_orientation_0_28.png, azimuth: 6.0\n",
      "filename: prompt_0_orientation_0_29.png, azimuth: 2.0\n",
      "filename: prompt_0_orientation_0_30.png, azimuth: 4.0\n",
      "filename: prompt_0_orientation_0_31.png, azimuth: 2.0\n",
      "filename: prompt_0_orientation_0_32.png, azimuth: 357.0\n",
      "filename: prompt_0_orientation_0_33.png, azimuth: 3.0\n",
      "filename: prompt_0_orientation_0_34.png, azimuth: 357.0\n",
      "filename: prompt_0_orientation_0_35.png, azimuth: 2.0\n",
      "filename: prompt_0_orientation_0_36.png, azimuth: 3.0\n",
      "filename: prompt_0_orientation_0_37.png, azimuth: 3.0\n",
      "filename: prompt_0_orientation_0_38.png, azimuth: 2.0\n",
      "filename: prompt_0_orientation_0_39.png, azimuth: 357.0\n",
      "filename: prompt_0_orientation_0_40.png, azimuth: 4.0\n",
      "filename: prompt_0_orientation_0_41.png, azimuth: 2.0\n",
      "filename: prompt_0_orientation_0_42.png, azimuth: 357.0\n",
      "filename: prompt_0_orientation_0_43.png, azimuth: 4.0\n",
      "filename: prompt_0_orientation_0_44.png, azimuth: 357.0\n",
      "filename: prompt_0_orientation_0_45.png, azimuth: 358.0\n",
      "filename: prompt_0_orientation_0_46.png, azimuth: 0.0\n",
      "filename: prompt_0_orientation_0_47.png, azimuth: 358.0\n",
      "filename: prompt_0_orientation_0_48.png, azimuth: 359.0\n",
      "filename: prompt_0_orientation_0_49.png, azimuth: 358.0\n"
     ]
    }
   ],
   "source": [
    "image_folder = \"/root/code/ReNO/results/resampled/sd-turbo/reg_True_lr_3.0_seed_0_noise_optimize_False_noises_0\"\n",
    "output_file = \"orientations.txt\"\n",
    "\n",
    "import re\n",
    "\n",
    "def sort_filenames(filenames):\n",
    "    \"\"\" 파일 리스트를 숫자 인덱스를 기준으로 정렬하는 함수 \"\"\"\n",
    "    def extract_third_number(filename):\n",
    "        match = re.search(r'prompt_\\d+_orientation_\\d+_(\\d+)', filename)\n",
    "        return int(match.group(1)) if match else float('inf')  # 정수 변환하여 정렬\n",
    "    return sorted(filenames, key=extract_third_number)\n",
    "\n",
    "\n",
    "filenames = [f for f in os.listdir(image_folder) if f.endswith(\".png\") and not f.endswith(\"orientation.png\") and not f.endswith(\"init.png\") and not f.endswith(\"result.png\")]\n",
    "sorted_filenames = sort_filenames(filenames)\n",
    "with open(os.path.join(image_folder, output_file), \"w\") as file:\n",
    "    for image_path in sorted_filenames:\n",
    "        image = Image.open(os.path.join(image_folder, image_path)).convert('RGB')\n",
    "\n",
    "        angles = get_3angle(image, dino, val_preprocess, device)\n",
    "        azimuth = float(np.radians(angles[0]))\n",
    "        polar = float(np.radians(angles[1]))\n",
    "        rotation = float(angles[2])\n",
    "        confidence = float(angles[3])\n",
    "        if image_path.startswith(\"prompt_0_orientation_0\"):\n",
    "            result_line = f\"filename: {image_path}, azimuth: {angles[0]}\\n\"\n",
    "            file.write(result_line)\n",
    "            print(result_line.strip())  # 화면에도 출력\n",
    "\n",
    "    #render_axis = render_3D_axis(azimuth, polar, rotation)\n",
    "    #res_img = overlay_images_with_scaling(render_axis, image)\n",
    "    \n",
    "    #output_file = image_path[:-4] + \"_rendered\"\n",
    "    #res_img.save()'rendered_png')"
   ]
  },
  {
   "cell_type": "code",
   "execution_count": 6,
   "metadata": {},
   "outputs": [
    {
     "data": {
      "text/plain": [
       "BitImageProcessor {\n",
       "  \"crop_size\": {\n",
       "    \"height\": 224,\n",
       "    \"width\": 224\n",
       "  },\n",
       "  \"do_center_crop\": true,\n",
       "  \"do_convert_rgb\": true,\n",
       "  \"do_normalize\": true,\n",
       "  \"do_rescale\": true,\n",
       "  \"do_resize\": true,\n",
       "  \"image_mean\": [\n",
       "    0.485,\n",
       "    0.456,\n",
       "    0.406\n",
       "  ],\n",
       "  \"image_processor_type\": \"BitImageProcessor\",\n",
       "  \"image_std\": [\n",
       "    0.229,\n",
       "    0.224,\n",
       "    0.225\n",
       "  ],\n",
       "  \"resample\": 3,\n",
       "  \"rescale_factor\": 0.00392156862745098,\n",
       "  \"size\": {\n",
       "    \"shortest_edge\": 256\n",
       "  }\n",
       "}"
      ]
     },
     "execution_count": 6,
     "metadata": {},
     "output_type": "execute_result"
    }
   ],
   "source": [
    "val_preprocess"
   ]
  },
  {
   "cell_type": "code",
   "execution_count": null,
   "metadata": {},
   "outputs": [],
   "source": []
  }
 ],
 "metadata": {
  "kernelspec": {
   "display_name": "reno",
   "language": "python",
   "name": "python3"
  },
  "language_info": {
   "codemirror_mode": {
    "name": "ipython",
    "version": 3
   },
   "file_extension": ".py",
   "mimetype": "text/x-python",
   "name": "python",
   "nbconvert_exporter": "python",
   "pygments_lexer": "ipython3",
   "version": "3.11.0"
  }
 },
 "nbformat": 4,
 "nbformat_minor": 2
}
